{
 "cells": [
  {
   "cell_type": "code",
   "execution_count": 1,
   "id": "3072a22a-ebec-49ec-b848-738619030a11",
   "metadata": {},
   "outputs": [],
   "source": [
    "# ECE 570 HW2 - P12 - Devin Bresser\n",
    "\n",
    "# imports\n",
    "import numpy as np\n",
    "import pandas as pd\n",
    "import seaborn as sns\n",
    "from sklearn.model_selection import train_test_split\n",
    "from sklearn.linear_model import LogisticRegression\n",
    "from sklearn.metrics import accuracy_score, classification_report, confusion_matrix\n",
    "from sklearn.preprocessing import StandardScaler\n"
   ]
  },
  {
   "cell_type": "code",
   "execution_count": 2,
   "id": "1f53f540-ec7e-4b73-bea9-9406fc35b41e",
   "metadata": {},
   "outputs": [
    {
     "data": {
      "text/html": [
       "<div>\n",
       "<style scoped>\n",
       "    .dataframe tbody tr th:only-of-type {\n",
       "        vertical-align: middle;\n",
       "    }\n",
       "\n",
       "    .dataframe tbody tr th {\n",
       "        vertical-align: top;\n",
       "    }\n",
       "\n",
       "    .dataframe thead th {\n",
       "        text-align: right;\n",
       "    }\n",
       "</style>\n",
       "<table border=\"1\" class=\"dataframe\">\n",
       "  <thead>\n",
       "    <tr style=\"text-align: right;\">\n",
       "      <th></th>\n",
       "      <th>age</th>\n",
       "      <th>workclass</th>\n",
       "      <th>fnlwgt</th>\n",
       "      <th>education</th>\n",
       "      <th>education-num</th>\n",
       "      <th>marital-status</th>\n",
       "      <th>occupation</th>\n",
       "      <th>relationship</th>\n",
       "      <th>race</th>\n",
       "      <th>sex</th>\n",
       "      <th>capital-gain</th>\n",
       "      <th>capital-loss</th>\n",
       "      <th>hours-per-week</th>\n",
       "      <th>native-country</th>\n",
       "    </tr>\n",
       "  </thead>\n",
       "  <tbody>\n",
       "    <tr>\n",
       "      <th>0</th>\n",
       "      <td>39</td>\n",
       "      <td>State-gov</td>\n",
       "      <td>77516</td>\n",
       "      <td>Bachelors</td>\n",
       "      <td>13</td>\n",
       "      <td>Never-married</td>\n",
       "      <td>Adm-clerical</td>\n",
       "      <td>Not-in-family</td>\n",
       "      <td>White</td>\n",
       "      <td>Male</td>\n",
       "      <td>2174</td>\n",
       "      <td>0</td>\n",
       "      <td>40</td>\n",
       "      <td>United-States</td>\n",
       "    </tr>\n",
       "    <tr>\n",
       "      <th>1</th>\n",
       "      <td>50</td>\n",
       "      <td>Self-emp-not-inc</td>\n",
       "      <td>83311</td>\n",
       "      <td>Bachelors</td>\n",
       "      <td>13</td>\n",
       "      <td>Married-civ-spouse</td>\n",
       "      <td>Exec-managerial</td>\n",
       "      <td>Husband</td>\n",
       "      <td>White</td>\n",
       "      <td>Male</td>\n",
       "      <td>0</td>\n",
       "      <td>0</td>\n",
       "      <td>13</td>\n",
       "      <td>United-States</td>\n",
       "    </tr>\n",
       "    <tr>\n",
       "      <th>2</th>\n",
       "      <td>38</td>\n",
       "      <td>Private</td>\n",
       "      <td>215646</td>\n",
       "      <td>HS-grad</td>\n",
       "      <td>9</td>\n",
       "      <td>Divorced</td>\n",
       "      <td>Handlers-cleaners</td>\n",
       "      <td>Not-in-family</td>\n",
       "      <td>White</td>\n",
       "      <td>Male</td>\n",
       "      <td>0</td>\n",
       "      <td>0</td>\n",
       "      <td>40</td>\n",
       "      <td>United-States</td>\n",
       "    </tr>\n",
       "  </tbody>\n",
       "</table>\n",
       "</div>"
      ],
      "text/plain": [
       "   age         workclass  fnlwgt  education  education-num  \\\n",
       "0   39         State-gov   77516  Bachelors             13   \n",
       "1   50  Self-emp-not-inc   83311  Bachelors             13   \n",
       "2   38           Private  215646    HS-grad              9   \n",
       "\n",
       "       marital-status         occupation   relationship   race   sex  \\\n",
       "0       Never-married       Adm-clerical  Not-in-family  White  Male   \n",
       "1  Married-civ-spouse    Exec-managerial        Husband  White  Male   \n",
       "2            Divorced  Handlers-cleaners  Not-in-family  White  Male   \n",
       "\n",
       "   capital-gain  capital-loss  hours-per-week native-country  \n",
       "0          2174             0              40  United-States  \n",
       "1             0             0              13  United-States  \n",
       "2             0             0              40  United-States  "
      ]
     },
     "execution_count": 2,
     "metadata": {},
     "output_type": "execute_result"
    }
   ],
   "source": [
    "# import Adult dataset (per https://archive.ics.uci.edu/dataset/2/adult)\n",
    "\n",
    "from ucimlrepo import fetch_ucirepo \n",
    "  \n",
    "# fetch dataset \n",
    "adult = fetch_ucirepo(id=2) \n",
    "  \n",
    "# data (as pandas dataframes) \n",
    "X = adult.data.features \n",
    "y = adult.data.targets \n",
    "  \n",
    "# metadata \n",
    "#print(adult.metadata) \n",
    "  \n",
    "# variable information \n",
    "#print(adult.variables) \n",
    "\n",
    "X.head(3)"
   ]
  },
  {
   "cell_type": "code",
   "execution_count": 3,
   "id": "2fc40c29-64e6-4493-b91b-5d2bb7ea0371",
   "metadata": {},
   "outputs": [],
   "source": [
    "# Comment: There is a fair amount of preprocessing that needs to be done on this dataset.\n",
    "# I will make a few modifications for the purpose of this HW that should preserve the ability to analyze fairness\n",
    "# without adding too much complexity to the model.\n",
    "\n",
    "# 1. Remove \"education\": we already have \"education-num\" to work with.\n",
    "# 2. Remove \"capital-gain\" and \"capital-loss\". I observe that >90% of capital-gain and capital-loss values are 0 so I will exclude them.\n",
    "# 4. Remove \"relationship\": this feels redundant given that we already have sex and marital status.\n",
    "# 5. Remove \"fnlwgt\": This feature is a prediction - it is not concrete data so I will exclude it.\n",
    "# 6. Binarize y.\n",
    "# 7. Implement one-hot encoding on the categorical features."
   ]
  },
  {
   "cell_type": "code",
   "execution_count": 4,
   "id": "6a31969e-9cd3-4f5a-b497-a8dcadb78186",
   "metadata": {},
   "outputs": [
    {
     "name": "stderr",
     "output_type": "stream",
     "text": [
      "C:\\Users\\Devin\\AppData\\Local\\Temp\\ipykernel_6320\\2863161831.py:18: FutureWarning: Downcasting behavior in `replace` is deprecated and will be removed in a future version. To retain the old behavior, explicitly call `result.infer_objects(copy=False)`. To opt-in to the future behavior, set `pd.set_option('future.no_silent_downcasting', True)`\n",
      "  y[\"income\"] = y[\"income\"].replace({'<=50K': 0, '>50K': 1, '<=50K.': 0, '>50K.': 1})\n",
      "C:\\Users\\Devin\\AppData\\Local\\Temp\\ipykernel_6320\\2863161831.py:18: SettingWithCopyWarning: \n",
      "A value is trying to be set on a copy of a slice from a DataFrame.\n",
      "Try using .loc[row_indexer,col_indexer] = value instead\n",
      "\n",
      "See the caveats in the documentation: https://pandas.pydata.org/pandas-docs/stable/user_guide/indexing.html#returning-a-view-versus-a-copy\n",
      "  y[\"income\"] = y[\"income\"].replace({'<=50K': 0, '>50K': 1, '<=50K.': 0, '>50K.': 1})\n"
     ]
    }
   ],
   "source": [
    "# Implement the changes above to X:\n",
    "columns_to_remove = [\"education\", \"capital-gain\", \"capital-loss\", \"relationship\", \"fnlwgt\"]\n",
    "categorical_columns = [\"workclass\", \"marital-status\", \"occupation\", \"race\", \"sex\", \"native-country\"]\n",
    "label_mappings = {} # create a dictionary to store the label mappings for later analysis\n",
    "\n",
    "X_reduced = X.drop(columns=columns_to_remove)\n",
    "\n",
    "# X_label_encoded = pd.DataFrame(index=X_reduced.index)\n",
    "\n",
    "# for col in categorical_columns:\n",
    "#     X_reduced[col] = X_reduced[col].astype('category')  # Convert to 'category' dtype\n",
    "#     label_mappings[col] = dict(enumerate(X_reduced[col].cat.categories))\n",
    "#     X_label_encoded[col] = X_reduced[col].cat.codes\n",
    "    \n",
    "X_onehot = pd.get_dummies(X_reduced, columns=categorical_columns, dtype=int)\n",
    "\n",
    "# Binarize y\n",
    "y[\"income\"] = y[\"income\"].replace({'<=50K': 0, '>50K': 1, '<=50K.': 0, '>50K.': 1})\n",
    "\n",
    "\n",
    "# Perform dropna() on X, and then ensure that X and y are still aligned:\n",
    "#X_label_encoded = X_label_encoded.dropna()\n",
    "X_onehot = X_onehot.dropna()\n",
    "y = y.loc[X_onehot.index] "
   ]
  },
  {
   "cell_type": "code",
   "execution_count": 5,
   "id": "784ffe69-f59a-4a8a-827c-1bb2b0628ace",
   "metadata": {},
   "outputs": [],
   "source": [
    "# Split into train/test data and implement a scaler\n",
    "\n",
    "X_train, X_test, y_train, y_test = train_test_split(X_onehot, y, test_size=0.2)\n",
    "scaler = StandardScaler()\n",
    "X_train_scaled = scaler.fit_transform(X_train)\n",
    "X_test_scaled = scaler.transform(X_test)"
   ]
  },
  {
   "cell_type": "code",
   "execution_count": 6,
   "id": "974fac71-b744-4df0-bbe6-efce0eb239f0",
   "metadata": {},
   "outputs": [
    {
     "name": "stdout",
     "output_type": "stream",
     "text": [
      "Accuracy: 0.7934281912171154\n",
      "              precision    recall  f1-score   support\n",
      "\n",
      "           0       0.94      0.78      0.85      7486\n",
      "           1       0.54      0.83      0.65      2283\n",
      "\n",
      "    accuracy                           0.79      9769\n",
      "   macro avg       0.74      0.81      0.75      9769\n",
      "weighted avg       0.85      0.79      0.81      9769\n",
      "\n",
      "[[5845 1641]\n",
      " [ 377 1906]]\n"
     ]
    }
   ],
   "source": [
    "# Using Logistic Regression\n",
    "\n",
    "# Define and train model\n",
    "model = LogisticRegression(max_iter=10000, class_weight=\"balanced\")\n",
    "model.fit(X_train_scaled, y_train.values.ravel())\n",
    "\n",
    "# Make predictions on X_test\n",
    "y_pred = model.predict(X_test_scaled)\n",
    "y_pred_series = pd.Series(y_pred, index=X_test.index, name='predictions')\n",
    "\n",
    "# Evaluate accuracy\n",
    "accuracy = accuracy_score(y_test, y_pred)\n",
    "print(f\"Accuracy: {accuracy}\")\n",
    "print(classification_report(y_test, y_pred))\n",
    "cfm = confusion_matrix(y_test, y_pred)\n",
    "print(cfm)"
   ]
  },
  {
   "cell_type": "code",
   "execution_count": 7,
   "id": "99169ee9-b4e4-4b44-a797-e5073ee221d9",
   "metadata": {},
   "outputs": [],
   "source": [
    "# So my vanilla log-reg classifier is OK, but not that good. It has low precision for the \"1\" label.\n",
    "# Essentially, it makes a lot of false positives, meaning it assigns \"1\" often when the true label is \"0\".\n",
    "# Precision and recall for the \"0\" class are pretty good, but this isn't very meaningful because that is the majority class\n",
    "# There are a number of strategies that I could try to employ to improve the model accuracy \n",
    "# but for now let's proceed to the fairness implementations."
   ]
  },
  {
   "cell_type": "code",
   "execution_count": 8,
   "id": "9de76188-1457-492c-82a7-b7051592f8bf",
   "metadata": {},
   "outputs": [
    {
     "name": "stdout",
     "output_type": "stream",
     "text": [
      "Model accuracy: 0.7934281912171154\n",
      "Empirical probability that y_pred = 1 given group Male: 0.4787888103289271\n",
      "Empirical probability that y_pred = 1 given group Female: 0.1323935029114312\n"
     ]
    }
   ],
   "source": [
    "# (2) Implementing fairness constraints\n",
    "# Let's start by looking at how the model did with respect to group fairness.\n",
    "# Let's investigate how the model discriminated based upon sex as this is a simple binary attribute to work with.\n",
    "\n",
    "# Extract indices in test data with sex_Male = 1 and sex_Female = 1\n",
    "idx_m = X_test[X_test[\"sex_Male\"]==1].index\n",
    "idx_f = X_test[X_test[\"sex_Female\"]==1].index\n",
    "\n",
    "y_test_m = y_test.loc[idx_m]\n",
    "y_test_f = y_test.loc[idx_f]\n",
    "\n",
    "y_pred_m = y_pred_series.loc[idx_m]\n",
    "y_pred_f = y_pred_series.loc[idx_f]\n",
    "\n",
    "# Recall definition of demographic parity: P(Y_pred = 1 | A = a) = P(Y_pred = 1 | A = b)\n",
    "# We can compute those probabilities empirically from the model\n",
    "P_y_pred_1_m = y_pred_m.mean()\n",
    "P_y_pred_1_f = y_pred_f.mean()\n",
    "print(f\"Model accuracy: {accuracy}\")\n",
    "print(f\"Empirical probability that y_pred = 1 given group Male: {P_y_pred_1_m}\")\n",
    "print(f\"Empirical probability that y_pred = 1 given group Female: {P_y_pred_1_f}\")"
   ]
  },
  {
   "cell_type": "code",
   "execution_count": 9,
   "id": "cb81d10b-6751-4779-bf8c-354c463f4789",
   "metadata": {},
   "outputs": [],
   "source": [
    "# As we can see, our model is exhibiting failure in demographic parity.\n",
    "# It is significantly more likely to predict Y_pred = 1 given Male versus Female.\n",
    "\n",
    "# To remedy this, we could implement the fairness constraint on the sex attribute.\n",
    "# min_w Sum L(y_pred_i , y_i) + lambda*|Cov(Y_pred, A)|\n",
    "# Note Cov(Y_pred, A) = E[Y_pred * A] - E[Y_pred]*E[A]"
   ]
  },
  {
   "cell_type": "code",
   "execution_count": 10,
   "id": "8cf8ca7f-c652-4699-ad1a-89e8da3f29d0",
   "metadata": {},
   "outputs": [],
   "source": [
    "# Comment: At this point in the homework, I was not able to figure out how to implement the fairness \n",
    "# algorithms for the Adult dataset. I will complete the rest of the HW (Fairness Constraints, FairBatch, \n",
    "# and Post Processing from the provided skeleton code file & synthetic dataset."
   ]
  }
 ],
 "metadata": {
  "kernelspec": {
   "display_name": "Python 3 (ipykernel)",
   "language": "python",
   "name": "python3"
  },
  "language_info": {
   "codemirror_mode": {
    "name": "ipython",
    "version": 3
   },
   "file_extension": ".py",
   "mimetype": "text/x-python",
   "name": "python",
   "nbconvert_exporter": "python",
   "pygments_lexer": "ipython3",
   "version": "3.12.2"
  }
 },
 "nbformat": 4,
 "nbformat_minor": 5
}
